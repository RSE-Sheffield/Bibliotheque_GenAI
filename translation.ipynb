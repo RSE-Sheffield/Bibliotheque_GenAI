{
 "cells": [
  {
   "cell_type": "code",
   "execution_count": 2,
   "metadata": {},
   "outputs": [],
   "source": [
    "from PyPDF2 import PdfReader\n",
    "from deep_translator import GoogleTranslator\n",
    "\n",
    "filename = \"Bibliothèque_britannique_Agriculture_18-pg9-20.pdf\"\n",
    "\n",
    "# Take of .pdf, append _eng.txt\n",
    "eng_filename = filename[:-4] + \"_eng.txt\"\n",
    "fr_filename = filename[:-4] + \"_fr.txt\"\n",
    "\n",
    "pdf_reader = PdfReader(filename)\n",
    "translator = GoogleTranslator(source='fr', target='en')\n",
    "\n",
    "translated_text = \"\"\n",
    "original_text = \"\"\n",
    "for page in pdf_reader.pages:\n",
    "    original_text += page.extract_text() + \"\\n\"\n",
    "    translated_text += translator.translate(page.extract_text()) + \"\\n\"\n",
    "\n",
    "\n",
    "with open(fr_filename, \"w\", encoding=\"utf-8\") as file:\n",
    "    file.write(original_text)\n",
    "\n",
    "with open(eng_filename, \"w\", encoding=\"utf-8\") as file:\n",
    "    file.write(translated_text)\n"
   ]
  },
  {
   "cell_type": "code",
   "execution_count": null,
   "metadata": {},
   "outputs": [],
   "source": []
  }
 ],
 "metadata": {
  "kernelspec": {
   "display_name": "biblio-ai",
   "language": "python",
   "name": "python3"
  },
  "language_info": {
   "codemirror_mode": {
    "name": "ipython",
    "version": 3
   },
   "file_extension": ".py",
   "mimetype": "text/x-python",
   "name": "python",
   "nbconvert_exporter": "python",
   "pygments_lexer": "ipython3",
   "version": "3.12.8"
  }
 },
 "nbformat": 4,
 "nbformat_minor": 2
}
